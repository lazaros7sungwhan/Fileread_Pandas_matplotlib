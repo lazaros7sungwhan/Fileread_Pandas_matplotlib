{
 "cells": [
  {
   "cell_type": "markdown",
   "metadata": {},
   "source": []
  },
  {
   "cell_type": "code",
   "execution_count": 34,
   "metadata": {},
   "outputs": [],
   "source": [
    "%matplotlib tk\n",
    "import pandas as pd\n",
    "import numpy as np\n",
    "import pandas as pd\n",
    "import matplotlib.pyplot as plt"
   ]
  },
  {
   "cell_type": "code",
   "execution_count": 35,
   "metadata": {},
   "outputs": [],
   "source": [
    "\n",
    "class my_class1(object):\n",
    "    def my_function1(self,inputfilename,outputfilename):\n",
    "    \n",
    "        filename_=open(inputfilename,'r')\n",
    "        filename_2=open(outputfilename,'w')\n",
    "\n",
    "        read_contents=filename_.readline()\n",
    "        filename_2.write(read_contents)\n",
    "\n",
    "        while(read_contents!=''):\n",
    "            if((read_contents!='\\n')and(read_contents.find(\"Data\")==-1)and(read_contents.find(\"Station\")==-1)and(read_contents.find(\"Test\")==-1)and(read_contents.find(\"Time\")==-1)):\n",
    "                filename_2.write(read_contents)\n",
    "            read_contents=filename_.readline()\n",
    "\n",
    "        filename_.close()\n",
    "        filename_2.close()\n"
   ]
  },
  {
   "cell_type": "code",
   "execution_count": 36,
   "metadata": {},
   "outputs": [],
   "source": [
    "def my_function1(inputfilename,outputfilename):\n",
    "    \n",
    "    filename_=open(inputfilename,'r')\n",
    "    filename_2=open(outputfilename,'w')\n",
    "\n",
    "    read_contents=filename_.readline()\n",
    "    filename_2.write(read_contents)\n",
    "\n",
    "    while(read_contents!=''):\n",
    "        if((read_contents!='\\n')and(read_contents.find(\"Data\")==-1)and(read_contents.find(\"Station\")==-1)and(read_contents.find(\"Test\")==-1)and(read_contents.find(\"Time\")==-1)and(read_contents.find(\"mm\")==-1)):\n",
    "            filename_2.write(read_contents)\n",
    "        read_contents=filename_.readline()\n",
    "\n",
    "\n",
    "    filename_.close()\n",
    "    filename_2.close()"
   ]
  },
  {
   "cell_type": "code",
   "execution_count": 37,
   "metadata": {},
   "outputs": [],
   "source": [
    "my_function1(\"123.dat\",\"idontknow.txt\")\n",
    "\n",
    "a1=my_class1()\n",
    "a1.my_function1(\"123.dat\",\"idontknow2.txt\")"
   ]
  },
  {
   "cell_type": "code",
   "execution_count": 38,
   "metadata": {},
   "outputs": [
    {
     "name": "stdout",
     "output_type": "stream",
     "text": [
      "       Axial Displacement  Axial Force\n",
      "0                0.038272     6.260586\n",
      "1                0.038110     6.745898\n",
      "2                0.037859     6.221957\n",
      "3                0.038888     6.784877\n",
      "4                0.037575     7.118964\n",
      "...                   ...          ...\n",
      "28263            3.285521    26.755789\n",
      "28264            3.286968    -5.843267\n",
      "28265            3.287270   -23.415236\n",
      "28266            3.286841     2.050475\n",
      "28267            3.286558    31.123642\n",
      "\n",
      "[28268 rows x 2 columns]\n"
     ]
    }
   ],
   "source": [
    "df=pd.read_table(\"idontknow.txt\")\n",
    "datas1=df.iloc[:,[1,2]]\n",
    "print(datas1)"
   ]
  },
  {
   "cell_type": "code",
   "execution_count": 47,
   "metadata": {},
   "outputs": [
    {
     "data": {
      "text/plain": [
       "Text(0, 0.5, 'Axial Force (N)')"
      ]
     },
     "execution_count": 47,
     "metadata": {},
     "output_type": "execute_result"
    }
   ],
   "source": [
    "datas1.astype(float)\n",
    "x11=datas1.plot(x='Axial Displacement',y='Axial Force',c='red')\n",
    "x11.grid(True)\n",
    "x11.set_title(\"Tensile_Test\")\n",
    "x11.set_xlabel(\"displacement (mm)\")\n",
    "x11.set_ylabel(\"Axial Force (N)\")"
   ]
  },
  {
   "cell_type": "code",
   "execution_count": null,
   "metadata": {},
   "outputs": [],
   "source": []
  }
 ],
 "metadata": {
  "kernelspec": {
   "display_name": "base",
   "language": "python",
   "name": "python3"
  },
  "language_info": {
   "codemirror_mode": {
    "name": "ipython",
    "version": 3
   },
   "file_extension": ".py",
   "mimetype": "text/x-python",
   "name": "python",
   "nbconvert_exporter": "python",
   "pygments_lexer": "ipython3",
   "version": "3.12.3"
  }
 },
 "nbformat": 4,
 "nbformat_minor": 2
}
